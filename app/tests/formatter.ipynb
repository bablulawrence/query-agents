{
 "cells": [
  {
   "cell_type": "code",
   "execution_count": 3,
   "metadata": {},
   "outputs": [
    {
     "name": "stdout",
     "output_type": "stream",
     "text": [
      "customers | project customer_name,\n",
      "loyalty_segment,\n",
      "units_purchased |\n",
      "sort by units_purchased desc | take 10\n"
     ]
    }
   ],
   "source": [
    "import sqlparse\n",
    "raw = \"customers\\n| project customer_name, loyalty_segment, units_purchased\\n| sort by units_purchased desc\\n| take 10\"\n",
    "\n",
    "print(sqlparse.format(raw, reindent=True, keyword_case='lower'))"
   ]
  }
 ],
 "metadata": {
  "kernelspec": {
   "display_name": ".venv",
   "language": "python",
   "name": "python3"
  },
  "language_info": {
   "codemirror_mode": {
    "name": "ipython",
    "version": 3
   },
   "file_extension": ".py",
   "mimetype": "text/x-python",
   "name": "python",
   "nbconvert_exporter": "python",
   "pygments_lexer": "ipython3",
   "version": "3.10.12"
  },
  "orig_nbformat": 4
 },
 "nbformat": 4,
 "nbformat_minor": 2
}
